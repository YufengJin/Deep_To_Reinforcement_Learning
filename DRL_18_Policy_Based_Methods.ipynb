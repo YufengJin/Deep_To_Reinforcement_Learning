{
  "nbformat": 4,
  "nbformat_minor": 0,
  "metadata": {
    "colab": {
      "name": "DRL_18_Policy-Based-Methods.ipynb",
      "provenance": [],
      "collapsed_sections": []
    },
    "kernelspec": {
      "name": "python3",
      "display_name": "Python 3"
    }
  },
  "cells": [
    {
      "cell_type": "markdown",
      "metadata": {
        "id": "40Yb47zJQglm",
        "colab_type": "text"
      },
      "source": [
        "DEEP REINFORCEMENT LEARNING EXPLAINED - 18\n",
        "# **Policy-Based Methods**\n",
        "### Hill Climbing algorithm"
      ]
    },
    {
      "cell_type": "markdown",
      "metadata": {
        "id": "Q40Fa7qM4_lE",
        "colab_type": "text"
      },
      "source": [
        "Import necessary packages"
      ]
    },
    {
      "cell_type": "code",
      "metadata": {
        "id": "FA1Y5VCv20XZ",
        "colab_type": "code",
        "colab": {}
      },
      "source": [
        "import gym\n",
        "import numpy as np\n",
        "from collections import deque\n",
        "import matplotlib.pyplot as plt"
      ],
      "execution_count": null,
      "outputs": []
    },
    {
      "cell_type": "markdown",
      "metadata": {
        "id": "4m0Vm4Yp91ZI",
        "colab_type": "text"
      },
      "source": [
        "Tunning the image rendering in colab\n"
      ]
    },
    {
      "cell_type": "code",
      "metadata": {
        "id": "kgpHXywd5SyZ",
        "colab_type": "code",
        "colab": {
          "base_uri": "https://localhost:8080/",
          "height": 728
        },
        "outputId": "c9036b31-0997-4a4f-e886-6e9c0f309b6b"
      },
      "source": [
        "# Taken from \n",
        "# https://towardsdatascience.com/rendering-openai-gym-envs-on-binder-and-google-colab-536f99391cc7\n",
        "\n",
        "!apt-get install -y xvfb x11-utils\n",
        "\n",
        "!pip install pyvirtualdisplay==0.2.* \\\n",
        "             PyOpenGL==3.1.* \\\n",
        "             PyOpenGL-accelerate==3.1.*\n",
        "\n",
        "!pip install gym[box2d]==0.17.*\n",
        "\n",
        "# Taken from https://github.com/actions/virtual-environments/issues/214\n",
        "!sudo apt-get update\n",
        "!sudo apt-get install xvfb --fix-missing\n",
        "\n",
        "import pyvirtualdisplay\n",
        "\n",
        "_display = pyvirtualdisplay.Display(visible=False, size=(1400, 900))\n",
        "_ = _display.start()\n",
        "\n",
        "!echo $DISPLAY # sanity checking should now be set to some value\n",
        "\n",
        "from IPython import display"
      ],
      "execution_count": null,
      "outputs": [
        {
          "output_type": "stream",
          "text": [
            "Reading package lists... Done\n",
            "Building dependency tree       \n",
            "Reading state information... Done\n",
            "x11-utils is already the newest version (7.7+3build1).\n",
            "xvfb is already the newest version (2:1.19.6-1ubuntu4.5).\n",
            "The following package was automatically installed and is no longer required:\n",
            "  libnvidia-common-440\n",
            "Use 'apt autoremove' to remove it.\n",
            "0 upgraded, 0 newly installed, 0 to remove and 71 not upgraded.\n",
            "Requirement already satisfied: pyvirtualdisplay==0.2.* in /usr/local/lib/python3.6/dist-packages (0.2.5)\n",
            "Requirement already satisfied: PyOpenGL==3.1.* in /usr/local/lib/python3.6/dist-packages (3.1.5)\n",
            "Requirement already satisfied: PyOpenGL-accelerate==3.1.* in /usr/local/lib/python3.6/dist-packages (3.1.5)\n",
            "Requirement already satisfied: EasyProcess in /usr/local/lib/python3.6/dist-packages (from pyvirtualdisplay==0.2.*) (0.3)\n",
            "Requirement already satisfied: gym[box2d]==0.17.* in /usr/local/lib/python3.6/dist-packages (0.17.2)\n",
            "Requirement already satisfied: cloudpickle<1.4.0,>=1.2.0 in /usr/local/lib/python3.6/dist-packages (from gym[box2d]==0.17.*) (1.3.0)\n",
            "Requirement already satisfied: numpy>=1.10.4 in /usr/local/lib/python3.6/dist-packages (from gym[box2d]==0.17.*) (1.18.5)\n",
            "Requirement already satisfied: pyglet<=1.5.0,>=1.4.0 in /usr/local/lib/python3.6/dist-packages (from gym[box2d]==0.17.*) (1.5.0)\n",
            "Requirement already satisfied: scipy in /usr/local/lib/python3.6/dist-packages (from gym[box2d]==0.17.*) (1.4.1)\n",
            "Requirement already satisfied: box2d-py~=2.3.5; extra == \"box2d\" in /usr/local/lib/python3.6/dist-packages (from gym[box2d]==0.17.*) (2.3.8)\n",
            "Requirement already satisfied: future in /usr/local/lib/python3.6/dist-packages (from pyglet<=1.5.0,>=1.4.0->gym[box2d]==0.17.*) (0.16.0)\n",
            "Get:1 http://security.ubuntu.com/ubuntu bionic-security InRelease [88.7 kB]\n",
            "Ign:2 https://developer.download.nvidia.com/compute/cuda/repos/ubuntu1804/x86_64  InRelease\n",
            "Hit:3 https://cloud.r-project.org/bin/linux/ubuntu bionic-cran35/ InRelease\n",
            "Ign:4 https://developer.download.nvidia.com/compute/machine-learning/repos/ubuntu1804/x86_64  InRelease\n",
            "Hit:5 http://ppa.launchpad.net/graphics-drivers/ppa/ubuntu bionic InRelease\n",
            "Hit:6 http://archive.ubuntu.com/ubuntu bionic InRelease\n",
            "Hit:7 https://developer.download.nvidia.com/compute/cuda/repos/ubuntu1804/x86_64  Release\n",
            "Hit:8 https://developer.download.nvidia.com/compute/machine-learning/repos/ubuntu1804/x86_64  Release\n",
            "Get:9 http://archive.ubuntu.com/ubuntu bionic-updates InRelease [88.7 kB]\n",
            "Hit:10 http://ppa.launchpad.net/marutter/c2d4u3.5/ubuntu bionic InRelease\n",
            "Get:11 http://archive.ubuntu.com/ubuntu bionic-backports InRelease [74.6 kB]\n",
            "Fetched 252 kB in 1s (241 kB/s)\n",
            "Reading package lists... Done\n",
            "Reading package lists... Done\n",
            "Building dependency tree       \n",
            "Reading state information... Done\n",
            "xvfb is already the newest version (2:1.19.6-1ubuntu4.5).\n",
            "The following package was automatically installed and is no longer required:\n",
            "  libnvidia-common-440\n",
            "Use 'sudo apt autoremove' to remove it.\n",
            "0 upgraded, 0 newly installed, 0 to remove and 71 not upgraded.\n",
            ":1009\n"
          ],
          "name": "stdout"
        }
      ]
    },
    {
      "cell_type": "markdown",
      "metadata": {
        "id": "JKCArPYvBkYi",
        "colab_type": "text"
      },
      "source": [
        "OpenAI Gym's Cartpole Environment"
      ]
    },
    {
      "cell_type": "code",
      "metadata": {
        "id": "_3_4zOdQBl2g",
        "colab_type": "code",
        "colab": {
          "base_uri": "https://localhost:8080/",
          "height": 65
        },
        "outputId": "8e0f8fe6-7372-4e87-acb8-96ad1585bf01"
      },
      "source": [
        "env = gym.make('CartPole-v0')\n",
        "print('observation space:', env.observation_space)\n",
        "print('action space:', env.action_space)\n",
        "print('threshold: ', env.spec.reward_threshold)\n"
      ],
      "execution_count": null,
      "outputs": [
        {
          "output_type": "stream",
          "text": [
            "observation space: Box(4,)\n",
            "action space: Discrete(2)\n",
            "threshold:  195.0\n"
          ],
          "name": "stdout"
        }
      ]
    },
    {
      "cell_type": "markdown",
      "metadata": {
        "id": "NJC916BU-9L6",
        "colab_type": "text"
      },
      "source": [
        "\n",
        "Define  policy π (and initialize with random weights θ)"
      ]
    },
    {
      "cell_type": "code",
      "metadata": {
        "id": "gRVXyg9A1zQh",
        "colab_type": "code",
        "colab": {}
      },
      "source": [
        "class Policy():\n",
        "    def __init__(self, s_size=4, a_size=2):\n",
        "        # 1. Initialize policy π with random weights θ\n",
        "        # weights for simple linear policy: state_space x action_space\n",
        "        self.θ = 1e-4*np.random.rand(s_size, a_size)  \n",
        "        \n",
        "    def forward(self, state):\n",
        "        x = np.dot(state, self.θ)\n",
        "        return np.exp(x)/sum(np.exp(x))\n",
        "    \n",
        "    def act(self, state):\n",
        "        probs = self.forward(state)\n",
        "        action = np.argmax(probs)             \n",
        "        return action\n"
      ],
      "execution_count": null,
      "outputs": []
    },
    {
      "cell_type": "markdown",
      "metadata": {
        "id": "9R3_QsYSBzYn",
        "colab_type": "text"
      },
      "source": [
        "Render Cartpole Environment before train"
      ]
    },
    {
      "cell_type": "code",
      "metadata": {
        "id": "OhhqfVxD28VZ",
        "colab_type": "code",
        "colab": {}
      },
      "source": [
        "def watch_agent():\n",
        "  env = gym.make('CartPole-v0')\n",
        "  state = env.reset()\n",
        "  rewards = []\n",
        "  img = plt.imshow(env.render(mode='rgb_array'))\n",
        "  for t in range(2000):\n",
        "    action = policy.act(state)\n",
        "    img.set_data(env.render(mode='rgb_array')) \n",
        "    plt.axis('off')\n",
        "    display.display(plt.gcf())\n",
        "    display.clear_output(wait=True)\n",
        "    state, reward, done, _ = env.step(action)\n",
        "    rewards.append(reward)\n",
        "    if done:\n",
        "        print(\"Reward:\", sum([r for r in rewards]))\n",
        "        break \n",
        "  env.close()"
      ],
      "execution_count": null,
      "outputs": []
    },
    {
      "cell_type": "code",
      "metadata": {
        "id": "WGK84ymx26sQ",
        "colab_type": "code",
        "colab": {
          "base_uri": "https://localhost:8080/",
          "height": 98
        },
        "outputId": "65799673-4243-459e-ebdd-7b49431e8c6e"
      },
      "source": [
        "policy = Policy()\n",
        "print (\"Policy weights θ before train:\\n\", policy.θ)"
      ],
      "execution_count": null,
      "outputs": [
        {
          "output_type": "stream",
          "text": [
            "Policy weights θ before train:\n",
            " [[6.30558674e-06 2.13219853e-05]\n",
            " [2.32801200e-05 5.86359967e-05]\n",
            " [1.33454380e-05 6.69857175e-05]\n",
            " [9.39527443e-05 6.65193884e-05]]\n"
          ],
          "name": "stdout"
        }
      ]
    },
    {
      "cell_type": "code",
      "metadata": {
        "id": "TT-xoG5VA9rZ",
        "colab_type": "code",
        "colab": {
          "base_uri": "https://localhost:8080/",
          "height": 263
        },
        "outputId": "04ff4015-5f1a-40f6-f434-13ab728fc555"
      },
      "source": [
        "watch_agent()"
      ],
      "execution_count": null,
      "outputs": [
        {
          "output_type": "stream",
          "text": [
            "Reward: 9.0\n"
          ],
          "name": "stdout"
        },
        {
          "output_type": "display_data",
          "data": {
            "image/png": "[encoded data removed]",
            "text/plain": [
              "<Figure size 432x288 with 1 Axes>"
            ]
          },
          "metadata": {
            "tags": [],
            "needs_background": "light"
          }
        }
      ]
    },
    {
      "cell_type": "code",
      "metadata": {
        "id": "rL8ZBRUzDtMp",
        "colab_type": "code",
        "colab": {
          "base_uri": "https://localhost:8080/",
          "height": 263
        },
        "outputId": "2de3cb9e-f648-4608-f71f-aca51ca33fc2"
      },
      "source": [
        "watch_agent()"
      ],
      "execution_count": null,
      "outputs": [
        {
          "output_type": "stream",
          "text": [
            "Reward: 10.0\n"
          ],
          "name": "stdout"
        },
        {
          "output_type": "display_data",
          "data": {
            "image/png": "[encoded data removed]",
            "text/plain": [
              "<Figure size 432x288 with 1 Axes>"
            ]
          },
          "metadata": {
            "tags": [],
            "needs_background": "light"
          }
        }
      ]
    },
    {
      "cell_type": "markdown",
      "metadata": {
        "id": "qbSa19Iw3rkT",
        "colab_type": "text"
      },
      "source": [
        "Train the Agent with Hill Climbing "
      ]
    },
    {
      "cell_type": "code",
      "metadata": {
        "id": "5gGKED9B3rBt",
        "colab_type": "code",
        "colab": {
          "base_uri": "https://localhost:8080/",
          "height": 378
        },
        "outputId": "f6c2c76e-d4c9-445c-a077-fa7e24d888f6"
      },
      "source": [
        "env = gym.make('CartPole-v0')\n",
        "env.seed(0)\n",
        "np.random.seed(0)\n",
        "\n",
        "\n",
        "def hill_climbing(n_episodes=10000, gamma=1.0, noise=1e-2):\n",
        "    \"\"\"Implementation of hill climbing.     \n",
        "    Params\n",
        "    ======\n",
        "        n_episodes (int): maximum number of training episodes\n",
        "        gamma (float): discount rate\n",
        "        noise(float): standard deviation of additive noise\n",
        "    \"\"\"\n",
        "    scores_deque = deque(maxlen=100)\n",
        "    scores = []\n",
        "    \n",
        "    #2. Initialize θbest (our best guess for the weights θ)\n",
        "    #3. Initialize Gbest (our highest return G we have gotten so far)\n",
        "    Gbest = -np.Inf\n",
        "    θbest = policy.θ\n",
        "    for i_episode in range(1, n_episodes+1):\n",
        "        rewards = []\n",
        "        state = env.reset()\n",
        "        while True:\n",
        "        #4. Collect a single episode with θ, and record the return G\n",
        "            action = policy.act(state)\n",
        "            state, reward, done, _ = env.step(action)\n",
        "            rewards.append(reward)\n",
        "            if done:\n",
        "                break \n",
        "        scores_deque.append(sum(rewards))\n",
        "        scores.append(sum(rewards))\n",
        "\n",
        "        discounts = [gamma**i for i in range(len(rewards)+1)]\n",
        "        G = sum([a*b for a,b in zip(discounts, rewards)])\n",
        "\n",
        "        if G >= Gbest: # 5. If G>Gbest then θbest←θ & Gbest←G\n",
        "            Gbest = G\n",
        "            θbest = policy.θ\n",
        "        \n",
        "        #6. Add a little bit of random noise to θbest, to get a new set of weights θ\n",
        "        policy.θ = θbest + noise * np.random.rand(*policy.θ.shape)\n",
        "\n",
        "        if i_episode % 10 == 0:\n",
        "            print('Episode {}\\tAverage Score: {:.2f}'.format(i_episode, np.mean(scores_deque)))\n",
        "\n",
        "        # 7. Repeat steps 4-6 until Environment solved.    \n",
        "        if np.mean(scores_deque)>=env.spec.reward_threshold:\n",
        "            print('Environment solved in {:d} episodes!\\tAverage Score: {:.2f}'.format(i_episode, np.mean(scores_deque)))\n",
        "            policy.θ = θbest\n",
        "            break\n",
        "        \n",
        "    return scores\n",
        "            \n",
        "scores = hill_climbing(gamma=0.9)"
      ],
      "execution_count": null,
      "outputs": [
        {
          "output_type": "stream",
          "text": [
            "Episode 10\tAverage Score: 59.50\n",
            "Episode 20\tAverage Score: 95.45\n",
            "Episode 30\tAverage Score: 122.37\n",
            "Episode 40\tAverage Score: 134.60\n",
            "Episode 50\tAverage Score: 145.60\n",
            "Episode 60\tAverage Score: 149.38\n",
            "Episode 70\tAverage Score: 154.33\n",
            "Episode 80\tAverage Score: 160.04\n",
            "Episode 90\tAverage Score: 163.56\n",
            "Episode 100\tAverage Score: 166.87\n",
            "Episode 110\tAverage Score: 174.70\n",
            "Episode 120\tAverage Score: 168.54\n",
            "Episode 130\tAverage Score: 170.92\n",
            "Episode 140\tAverage Score: 173.79\n",
            "Episode 150\tAverage Score: 174.83\n",
            "Episode 160\tAverage Score: 178.00\n",
            "Episode 170\tAverage Score: 179.60\n",
            "Episode 180\tAverage Score: 179.58\n",
            "Episode 190\tAverage Score: 180.41\n",
            "Episode 200\tAverage Score: 180.74\n",
            "Episode 210\tAverage Score: 186.96\n",
            "Environment solved in 215 episodes!\tAverage Score: 195.65\n"
          ],
          "name": "stdout"
        }
      ]
    },
    {
      "cell_type": "markdown",
      "metadata": {
        "id": "ONPYWICR3z63",
        "colab_type": "text"
      },
      "source": [
        "Plot the scores during training\n",
        "\n"
      ]
    },
    {
      "cell_type": "code",
      "metadata": {
        "id": "pk1Q1l7R30-t",
        "colab_type": "code",
        "colab": {
          "base_uri": "https://localhost:8080/",
          "height": 277
        },
        "outputId": "aa6cdcd3-53e3-486d-a245-1345c3f5c5e5"
      },
      "source": [
        "fig = plt.figure()\n",
        "#ax = fig.add_subplot(111)\n",
        "plt.plot(np.arange(1, len(scores)+1), scores)\n",
        "plt.ylabel('Score')\n",
        "plt.xlabel('Episode #')\n",
        "plt.show()"
      ],
      "execution_count": null,
      "outputs": [
        {
          "output_type": "display_data",
          "data": {
            "image/png": "[encoded data removed]",
            "text/plain": [
              "<Figure size 432x288 with 1 Axes>"
            ]
          },
          "metadata": {
            "tags": [],
            "needs_background": "light"
          }
        }
      ]
    },
    {
      "cell_type": "code",
      "metadata": {
        "id": "nqZoAT8x3wyn",
        "colab_type": "code",
        "colab": {
          "base_uri": "https://localhost:8080/",
          "height": 98
        },
        "outputId": "70cc453e-e578-467d-999a-dbf04511f3d4"
      },
      "source": [
        "print (\"Policy weights θ after train:\\n\", policy.θ)"
      ],
      "execution_count": null,
      "outputs": [
        {
          "output_type": "stream",
          "text": [
            "Policy weights θ after train:\n",
            " [[0.83126272 0.83426041]\n",
            " [0.83710884 0.86015151]\n",
            " [0.84691878 0.89171965]\n",
            " [0.80911446 0.87010399]]\n"
          ],
          "name": "stdout"
        }
      ]
    },
    {
      "cell_type": "markdown",
      "metadata": {
        "id": "SsanK3ds37qN",
        "colab_type": "text"
      },
      "source": [
        "Watch a trained Agent!"
      ]
    },
    {
      "cell_type": "code",
      "metadata": {
        "id": "gN9sT4JD35XS",
        "colab_type": "code",
        "colab": {
          "base_uri": "https://localhost:8080/",
          "height": 263
        },
        "outputId": "0cb2f409-a221-4d01-c9a3-24bf5804119a"
      },
      "source": [
        "watch_agent()"
      ],
      "execution_count": null,
      "outputs": [
        {
          "output_type": "stream",
          "text": [
            "Reward: 200.0\n"
          ],
          "name": "stdout"
        },
        {
          "output_type": "display_data",
          "data": {
            "image/png": "[encoded data removed]",
            "text/plain": [
              "<Figure size 432x288 with 1 Axes>"
            ]
          },
          "metadata": {
            "tags": [],
            "needs_background": "light"
          }
        }
      ]
    },
    {
      "cell_type": "code",
      "metadata": {
        "id": "pa_GPs4FDyRg",
        "colab_type": "code",
        "colab": {
          "base_uri": "https://localhost:8080/",
          "height": 263
        },
        "outputId": "fd302dd4-d2e4-4d04-a9ee-7a1f54bd94f4"
      },
      "source": [
        "watch_agent()"
      ],
      "execution_count": null,
      "outputs": [
        {
          "output_type": "stream",
          "text": [
            "Reward: 200.0\n"
          ],
          "name": "stdout"
        },
        {
          "output_type": "display_data",
          "data": {
            "image/png": "[encoded data removed]",
            "text/plain": [
              "<Figure size 432x288 with 1 Axes>"
            ]
          },
          "metadata": {
            "tags": [],
            "needs_background": "light"
          }
        }
      ]
    }
  ]
}